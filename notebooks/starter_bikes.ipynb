{
  "nbformat": 4,
  "nbformat_minor": 0,
  "metadata": {
    "colab": {
      "name": "starter_bikes.ipynb",
      "provenance": [],
      "gpuType": "T4"
    },
    "kernelspec": {
      "name": "python3",
      "display_name": "Python 3"
    },
    "accelerator": "GPU"
  },
  "cells": [
    {
      "cell_type": "code",
      "metadata": {
        "id": "mA0HPVmIBT4C",
        "outputId": "31fe3172-7aa2-4162-ad81-4524c3280aa8",
        "colab": {
          "base_uri": "https://localhost:8080/"
        }
      },
      "source": [
        "import pandas as pd\n",
        "import tensorflow as tf\n",
        "from tensorflow import keras\n",
        "from tensorflow.keras import layers\n",
        "import matplotlib.pyplot as plt\n",
        "from sklearn.model_selection import train_test_split\n",
        "\n",
        "# Use nrows to load only a subset of the data (adjust the number as needed)\n",
        "url = 'https://raw.githubusercontent.com/byui-cse/cse450-course/master/data/bikes.csv'\n",
        "bikes = pd.read_csv(url, nrows=10000)  # Load 10,000 rows instead of the entire dataset\n",
        "\n",
        "# Print columns to verify\n",
        "print(\"Columns in the dataset:\")\n",
        "print(bikes.columns)\n",
        "\n",
        "# Use 'workingday' as the target variable\n",
        "target = 'workingday'\n",
        "print(\"Using target:\", target)\n",
        "\n",
        "# Separate features and labels\n",
        "features = bikes.drop(columns=[target])\n",
        "labels = bikes[target]\n",
        "\n",
        "# Convert categorical features to dummy variables (this may increase memory usage, so only include needed features)\n",
        "features = pd.get_dummies(features)\n",
        "\n",
        "# Split the data into training and testing sets\n",
        "X_train, X_test, y_train, y_test = train_test_split(features, labels, test_size=0.2, random_state=42)\n",
        "\n",
        "# Create a normalization layer for the features\n",
        "normalizer = layers.Normalization(axis=-1)\n",
        "normalizer.adapt(X_train.values)\n",
        "\n",
        "# Build the neural network model for binary classification\n",
        "def build_model():\n",
        "    model = keras.Sequential([\n",
        "        normalizer,  # Normalize input features\n",
        "        layers.Dense(64, activation='relu'),\n",
        "        layers.Dense(64, activation='relu'),\n",
        "        layers.Dense(1, activation='sigmoid')  # Sigmoid output for binary classification\n",
        "    ])\n",
        "\n",
        "    # Compile the model with binary crossentropy loss and accuracy as a metric\n",
        "    optimizer = tf.keras.optimizers.Adam(learning_rate=0.001)\n",
        "    model.compile(loss='binary_crossentropy',\n",
        "                  optimizer=optimizer,\n",
        "                  metrics=['accuracy'])\n",
        "    return model\n",
        "\n",
        "model = build_model()\n",
        "model.summary()\n",
        "\n",
        "# Optional callback to reduce learning rate if validation loss plateaus\n",
        "lr_callback = keras.callbacks.ReduceLROnPlateau(monitor='val_loss', factor=0.1, patience=10)\n",
        "\n",
        "# Train the model using a smaller batch size to reduce memory usage\n",
        "history = model.fit(\n",
        "    X_train,\n",
        "    y_train,\n",
        "    epochs=50,  # Fewer epochs can help with memory usage during training\n",
        "    validation_split=0.2,\n",
        "    batch_size=32,  # Smaller batch size reduces memory requirements\n",
        "    callbacks=[lr_callback],\n",
        "    verbose=1\n",
        ")\n",
        "\n",
        "# Plot training and validation loss over epochs\n",
        "plt.figure(figsize=(8, 5))\n",
        "plt.plot(history.history['loss'], label='Training Loss')\n",
        "plt.plot(history.history['val_loss'], label='Validation Loss')\n",
        "plt.xlabel('Epoch')\n",
        "plt.ylabel('Loss')\n",
        "plt.legend()\n",
        "plt.title('Training and Validation Loss')\n",
        "plt.show()\n",
        "\n",
        "# Evaluate the model on the test set\n",
        "loss, accuracy = model.evaluate(X_test, y_test, verbose=2)\n",
        "print(\"Test set Accuracy: {:5.2f}%\".format(accuracy * 100))\n"
      ],
      "execution_count": null,
      "outputs": [
        {
          "output_type": "stream",
          "name": "stdout",
          "text": [
            "Columns in the dataset:\n",
            "Index(['dteday', 'hr', 'casual', 'registered', 'temp_c', 'feels_like_c', 'hum',\n",
            "       'windspeed', 'weathersit', 'season', 'holiday', 'workingday'],\n",
            "      dtype='object')\n",
            "Using target: workingday\n"
          ]
        }
      ]
    },
    {
      "cell_type": "code",
      "metadata": {
        "id": "StiU5QcPPxqQ"
      },
      "source": [],
      "execution_count": null,
      "outputs": []
    },
    {
      "cell_type": "code",
      "metadata": {
        "id": "ALLMN63FPyEQ"
      },
      "source": [],
      "execution_count": null,
      "outputs": []
    },
    {
      "cell_type": "code",
      "metadata": {
        "id": "RnGBwGVZPyyh"
      },
      "source": [],
      "execution_count": null,
      "outputs": []
    },
    {
      "cell_type": "code",
      "metadata": {
        "id": "CVSfaqgKPzE2"
      },
      "source": [],
      "execution_count": null,
      "outputs": []
    }
  ]
}