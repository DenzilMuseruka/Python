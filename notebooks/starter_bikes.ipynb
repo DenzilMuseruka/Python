{
  "nbformat": 4,
  "nbformat_minor": 0,
  "metadata": {
    "colab": {
      "name": "starter_bikes.ipynb",
      "provenance": [],
      "gpuType": "T4"
    },
    "kernelspec": {
      "name": "python3",
      "display_name": "Python 3"
    },
    "accelerator": "GPU"
  },
  "cells": [
    {
      "cell_type": "code",
      "metadata": {
        "id": "mA0HPVmIBT4C",
        "colab": {
          "base_uri": "https://localhost:8080/",
          "height": 1000
        },
        "outputId": "31fe3172-7aa2-4162-ad81-4524c3280aa8"
      },
      "source": [
        "import pandas as pd\n",
        "import tensorflow as tf\n",
        "from tensorflow import keras\n",
        "from tensorflow.keras import layers\n",
        "import matplotlib.pyplot as plt\n",
        "from sklearn.model_selection import train_test_split\n",
        "\n",
        "# Use nrows to load only a subset of the data (adjust the number as needed)\n",
        "url = 'https://raw.githubusercontent.com/byui-cse/cse450-course/master/data/bikes.csv'\n",
        "bikes = pd.read_csv(url, nrows=10000)  # Load 10,000 rows instead of the entire dataset\n",
        "\n",
        "# Print columns to verify\n",
        "print(\"Columns in the dataset:\")\n",
        "print(bikes.columns)\n",
        "\n",
        "# Use 'workingday' as the target variable\n",
        "target = 'workingday'\n",
        "print(\"Using target:\", target)\n",
        "\n",
        "# Separate features and labels\n",
        "features = bikes.drop(columns=[target])\n",
        "labels = bikes[target]\n",
        "\n",
        "# Convert categorical features to dummy variables (this may increase memory usage, so only include needed features)\n",
        "features = pd.get_dummies(features)\n",
        "\n",
        "# Split the data into training and testing sets\n",
        "X_train, X_test, y_train, y_test = train_test_split(features, labels, test_size=0.2, random_state=42)\n",
        "\n",
        "# Create a normalization layer for the features\n",
        "normalizer = layers.Normalization(axis=-1)\n",
        "normalizer.adapt(X_train.values)\n",
        "\n",
        "# Build the neural network model for binary classification\n",
        "def build_model():\n",
        "    model = keras.Sequential([\n",
        "        normalizer,  # Normalize input features\n",
        "        layers.Dense(64, activation='relu'),\n",
        "        layers.Dense(64, activation='relu'),\n",
        "        layers.Dense(1, activation='sigmoid')  # Sigmoid output for binary classification\n",
        "    ])\n",
        "\n",
        "    # Compile the model with binary crossentropy loss and accuracy as a metric\n",
        "    optimizer = tf.keras.optimizers.Adam(learning_rate=0.001)\n",
        "    model.compile(loss='binary_crossentropy',\n",
        "                  optimizer=optimizer,\n",
        "                  metrics=['accuracy'])\n",
        "    return model\n",
        "\n",
        "model = build_model()\n",
        "model.summary()\n",
        "\n",
        "# Optional callback to reduce learning rate if validation loss plateaus\n",
        "lr_callback = keras.callbacks.ReduceLROnPlateau(monitor='val_loss', factor=0.1, patience=10)\n",
        "\n",
        "# Train the model using a smaller batch size to reduce memory usage\n",
        "history = model.fit(\n",
        "    X_train,\n",
        "    y_train,\n",
        "    epochs=50,  # Fewer epochs can help with memory usage during training\n",
        "    validation_split=0.2,\n",
        "    batch_size=32,  # Smaller batch size reduces memory requirements\n",
        "    callbacks=[lr_callback],\n",
        "    verbose=1\n",
        ")\n",
        "\n",
        "# Plot training and validation loss over epochs\n",
        "plt.figure(figsize=(8, 5))\n",
        "plt.plot(history.history['loss'], label='Training Loss')\n",
        "plt.plot(history.history['val_loss'], label='Validation Loss')\n",
        "plt.xlabel('Epoch')\n",
        "plt.ylabel('Loss')\n",
        "plt.legend()\n",
        "plt.title('Training and Validation Loss')\n",
        "plt.show()\n",
        "\n",
        "# Evaluate the model on the test set\n",
        "loss, accuracy = model.evaluate(X_test, y_test, verbose=2)\n",
        "print(\"Test set Accuracy: {:5.2f}%\".format(accuracy * 100))\n"
      ],
      "execution_count": 1,
      "outputs": [
        {
          "output_type": "stream",
          "name": "stdout",
          "text": [
            "Columns in the dataset:\n",
            "Index(['dteday', 'hr', 'casual', 'registered', 'temp_c', 'feels_like_c', 'hum',\n",
            "       'windspeed', 'weathersit', 'season', 'holiday', 'workingday'],\n",
            "      dtype='object')\n",
            "Using target: workingday\n"
          ]
        },
        {
          "output_type": "display_data",
          "data": {
            "text/plain": [
              "\u001b[1mModel: \"sequential\"\u001b[0m\n"
            ],
            "text/html": [
              "<pre style=\"white-space:pre;overflow-x:auto;line-height:normal;font-family:Menlo,'DejaVu Sans Mono',consolas,'Courier New',monospace\"><span style=\"font-weight: bold\">Model: \"sequential\"</span>\n",
              "</pre>\n"
            ]
          },
          "metadata": {}
        },
        {
          "output_type": "display_data",
          "data": {
            "text/plain": [
              "┏━━━━━━━━━━━━━━━━━━━━━━━━━━━━━━━━━━━━━━┳━━━━━━━━━━━━━━━━━━━━━━━━━━━━━┳━━━━━━━━━━━━━━━━━┓\n",
              "┃\u001b[1m \u001b[0m\u001b[1mLayer (type)                        \u001b[0m\u001b[1m \u001b[0m┃\u001b[1m \u001b[0m\u001b[1mOutput Shape               \u001b[0m\u001b[1m \u001b[0m┃\u001b[1m \u001b[0m\u001b[1m        Param #\u001b[0m\u001b[1m \u001b[0m┃\n",
              "┡━━━━━━━━━━━━━━━━━━━━━━━━━━━━━━━━━━━━━━╇━━━━━━━━━━━━━━━━━━━━━━━━━━━━━╇━━━━━━━━━━━━━━━━━┩\n",
              "│ normalization (\u001b[38;5;33mNormalization\u001b[0m)        │ (\u001b[38;5;34m8000\u001b[0m, \u001b[38;5;34m427\u001b[0m)                 │             \u001b[38;5;34m855\u001b[0m │\n",
              "├──────────────────────────────────────┼─────────────────────────────┼─────────────────┤\n",
              "│ dense (\u001b[38;5;33mDense\u001b[0m)                        │ ?                           │     \u001b[38;5;34m0\u001b[0m (unbuilt) │\n",
              "├──────────────────────────────────────┼─────────────────────────────┼─────────────────┤\n",
              "│ dense_1 (\u001b[38;5;33mDense\u001b[0m)                      │ ?                           │     \u001b[38;5;34m0\u001b[0m (unbuilt) │\n",
              "├──────────────────────────────────────┼─────────────────────────────┼─────────────────┤\n",
              "│ dense_2 (\u001b[38;5;33mDense\u001b[0m)                      │ ?                           │     \u001b[38;5;34m0\u001b[0m (unbuilt) │\n",
              "└──────────────────────────────────────┴─────────────────────────────┴─────────────────┘\n"
            ],
            "text/html": [
              "<pre style=\"white-space:pre;overflow-x:auto;line-height:normal;font-family:Menlo,'DejaVu Sans Mono',consolas,'Courier New',monospace\">┏━━━━━━━━━━━━━━━━━━━━━━━━━━━━━━━━━━━━━━┳━━━━━━━━━━━━━━━━━━━━━━━━━━━━━┳━━━━━━━━━━━━━━━━━┓\n",
              "┃<span style=\"font-weight: bold\"> Layer (type)                         </span>┃<span style=\"font-weight: bold\"> Output Shape                </span>┃<span style=\"font-weight: bold\">         Param # </span>┃\n",
              "┡━━━━━━━━━━━━━━━━━━━━━━━━━━━━━━━━━━━━━━╇━━━━━━━━━━━━━━━━━━━━━━━━━━━━━╇━━━━━━━━━━━━━━━━━┩\n",
              "│ normalization (<span style=\"color: #0087ff; text-decoration-color: #0087ff\">Normalization</span>)        │ (<span style=\"color: #00af00; text-decoration-color: #00af00\">8000</span>, <span style=\"color: #00af00; text-decoration-color: #00af00\">427</span>)                 │             <span style=\"color: #00af00; text-decoration-color: #00af00\">855</span> │\n",
              "├──────────────────────────────────────┼─────────────────────────────┼─────────────────┤\n",
              "│ dense (<span style=\"color: #0087ff; text-decoration-color: #0087ff\">Dense</span>)                        │ ?                           │     <span style=\"color: #00af00; text-decoration-color: #00af00\">0</span> (unbuilt) │\n",
              "├──────────────────────────────────────┼─────────────────────────────┼─────────────────┤\n",
              "│ dense_1 (<span style=\"color: #0087ff; text-decoration-color: #0087ff\">Dense</span>)                      │ ?                           │     <span style=\"color: #00af00; text-decoration-color: #00af00\">0</span> (unbuilt) │\n",
              "├──────────────────────────────────────┼─────────────────────────────┼─────────────────┤\n",
              "│ dense_2 (<span style=\"color: #0087ff; text-decoration-color: #0087ff\">Dense</span>)                      │ ?                           │     <span style=\"color: #00af00; text-decoration-color: #00af00\">0</span> (unbuilt) │\n",
              "└──────────────────────────────────────┴─────────────────────────────┴─────────────────┘\n",
              "</pre>\n"
            ]
          },
          "metadata": {}
        },
        {
          "output_type": "display_data",
          "data": {
            "text/plain": [
              "\u001b[1m Total params: \u001b[0m\u001b[38;5;34m855\u001b[0m (3.34 KB)\n"
            ],
            "text/html": [
              "<pre style=\"white-space:pre;overflow-x:auto;line-height:normal;font-family:Menlo,'DejaVu Sans Mono',consolas,'Courier New',monospace\"><span style=\"font-weight: bold\"> Total params: </span><span style=\"color: #00af00; text-decoration-color: #00af00\">855</span> (3.34 KB)\n",
              "</pre>\n"
            ]
          },
          "metadata": {}
        },
        {
          "output_type": "display_data",
          "data": {
            "text/plain": [
              "\u001b[1m Trainable params: \u001b[0m\u001b[38;5;34m0\u001b[0m (0.00 B)\n"
            ],
            "text/html": [
              "<pre style=\"white-space:pre;overflow-x:auto;line-height:normal;font-family:Menlo,'DejaVu Sans Mono',consolas,'Courier New',monospace\"><span style=\"font-weight: bold\"> Trainable params: </span><span style=\"color: #00af00; text-decoration-color: #00af00\">0</span> (0.00 B)\n",
              "</pre>\n"
            ]
          },
          "metadata": {}
        },
        {
          "output_type": "display_data",
          "data": {
            "text/plain": [
              "\u001b[1m Non-trainable params: \u001b[0m\u001b[38;5;34m855\u001b[0m (3.34 KB)\n"
            ],
            "text/html": [
              "<pre style=\"white-space:pre;overflow-x:auto;line-height:normal;font-family:Menlo,'DejaVu Sans Mono',consolas,'Courier New',monospace\"><span style=\"font-weight: bold\"> Non-trainable params: </span><span style=\"color: #00af00; text-decoration-color: #00af00\">855</span> (3.34 KB)\n",
              "</pre>\n"
            ]
          },
          "metadata": {}
        },
        {
          "output_type": "stream",
          "name": "stdout",
          "text": [
            "Epoch 1/50\n",
            "\u001b[1m200/200\u001b[0m \u001b[32m━━━━━━━━━━━━━━━━━━━━\u001b[0m\u001b[37m\u001b[0m \u001b[1m4s\u001b[0m 5ms/step - accuracy: 0.7752 - loss: 0.4373 - val_accuracy: 1.0000 - val_loss: 0.0109 - learning_rate: 0.0010\n",
            "Epoch 2/50\n",
            "\u001b[1m200/200\u001b[0m \u001b[32m━━━━━━━━━━━━━━━━━━━━\u001b[0m\u001b[37m\u001b[0m \u001b[1m3s\u001b[0m 3ms/step - accuracy: 1.0000 - loss: 0.0051 - val_accuracy: 1.0000 - val_loss: 0.0013 - learning_rate: 0.0010\n",
            "Epoch 3/50\n",
            "\u001b[1m200/200\u001b[0m \u001b[32m━━━━━━━━━━━━━━━━━━━━\u001b[0m\u001b[37m\u001b[0m \u001b[1m1s\u001b[0m 3ms/step - accuracy: 1.0000 - loss: 8.7465e-04 - val_accuracy: 1.0000 - val_loss: 5.0903e-04 - learning_rate: 0.0010\n",
            "Epoch 4/50\n",
            "\u001b[1m200/200\u001b[0m \u001b[32m━━━━━━━━━━━━━━━━━━━━\u001b[0m\u001b[37m\u001b[0m \u001b[1m1s\u001b[0m 3ms/step - accuracy: 1.0000 - loss: 3.5597e-04 - val_accuracy: 1.0000 - val_loss: 2.6697e-04 - learning_rate: 0.0010\n",
            "Epoch 5/50\n",
            "\u001b[1m200/200\u001b[0m \u001b[32m━━━━━━━━━━━━━━━━━━━━\u001b[0m\u001b[37m\u001b[0m \u001b[1m1s\u001b[0m 3ms/step - accuracy: 1.0000 - loss: 2.0525e-04 - val_accuracy: 1.0000 - val_loss: 1.6003e-04 - learning_rate: 0.0010\n",
            "Epoch 6/50\n",
            "\u001b[1m200/200\u001b[0m \u001b[32m━━━━━━━━━━━━━━━━━━━━\u001b[0m\u001b[37m\u001b[0m \u001b[1m1s\u001b[0m 3ms/step - accuracy: 1.0000 - loss: 1.2343e-04 - val_accuracy: 1.0000 - val_loss: 1.0646e-04 - learning_rate: 0.0010\n",
            "Epoch 7/50\n",
            "\u001b[1m200/200\u001b[0m \u001b[32m━━━━━━━━━━━━━━━━━━━━\u001b[0m\u001b[37m\u001b[0m \u001b[1m1s\u001b[0m 3ms/step - accuracy: 1.0000 - loss: 8.1527e-05 - val_accuracy: 1.0000 - val_loss: 7.5236e-05 - learning_rate: 0.0010\n",
            "Epoch 8/50\n",
            "\u001b[1m200/200\u001b[0m \u001b[32m━━━━━━━━━━━━━━━━━━━━\u001b[0m\u001b[37m\u001b[0m \u001b[1m1s\u001b[0m 4ms/step - accuracy: 1.0000 - loss: 5.7996e-05 - val_accuracy: 1.0000 - val_loss: 5.5351e-05 - learning_rate: 0.0010\n",
            "Epoch 9/50\n",
            "\u001b[1m200/200\u001b[0m \u001b[32m━━━━━━━━━━━━━━━━━━━━\u001b[0m\u001b[37m\u001b[0m \u001b[1m1s\u001b[0m 5ms/step - accuracy: 1.0000 - loss: 4.4879e-05 - val_accuracy: 1.0000 - val_loss: 4.2005e-05 - learning_rate: 0.0010\n",
            "Epoch 10/50\n",
            "\u001b[1m200/200\u001b[0m \u001b[32m━━━━━━━━━━━━━━━━━━━━\u001b[0m\u001b[37m\u001b[0m \u001b[1m1s\u001b[0m 3ms/step - accuracy: 1.0000 - loss: 3.2641e-05 - val_accuracy: 1.0000 - val_loss: 3.2715e-05 - learning_rate: 0.0010\n",
            "Epoch 11/50\n",
            "\u001b[1m200/200\u001b[0m \u001b[32m━━━━━━━━━━━━━━━━━━━━\u001b[0m\u001b[37m\u001b[0m \u001b[1m1s\u001b[0m 3ms/step - accuracy: 1.0000 - loss: 2.5966e-05 - val_accuracy: 1.0000 - val_loss: 2.5960e-05 - learning_rate: 0.0010\n",
            "Epoch 12/50\n",
            "\u001b[1m200/200\u001b[0m \u001b[32m━━━━━━━━━━━━━━━━━━━━\u001b[0m\u001b[37m\u001b[0m \u001b[1m1s\u001b[0m 3ms/step - accuracy: 1.0000 - loss: 2.0447e-05 - val_accuracy: 1.0000 - val_loss: 2.0925e-05 - learning_rate: 0.0010\n",
            "Epoch 13/50\n",
            "\u001b[1m200/200\u001b[0m \u001b[32m━━━━━━━━━━━━━━━━━━━━\u001b[0m\u001b[37m\u001b[0m \u001b[1m1s\u001b[0m 3ms/step - accuracy: 1.0000 - loss: 1.6873e-05 - val_accuracy: 1.0000 - val_loss: 1.7099e-05 - learning_rate: 0.0010\n",
            "Epoch 14/50\n",
            "\u001b[1m200/200\u001b[0m \u001b[32m━━━━━━━━━━━━━━━━━━━━\u001b[0m\u001b[37m\u001b[0m \u001b[1m1s\u001b[0m 3ms/step - accuracy: 1.0000 - loss: 1.3797e-05 - val_accuracy: 1.0000 - val_loss: 1.4104e-05 - learning_rate: 0.0010\n",
            "Epoch 15/50\n",
            "\u001b[1m200/200\u001b[0m \u001b[32m━━━━━━━━━━━━━━━━━━━━\u001b[0m\u001b[37m\u001b[0m \u001b[1m1s\u001b[0m 3ms/step - accuracy: 1.0000 - loss: 1.1618e-05 - val_accuracy: 1.0000 - val_loss: 1.1746e-05 - learning_rate: 0.0010\n",
            "Epoch 16/50\n",
            "\u001b[1m200/200\u001b[0m \u001b[32m━━━━━━━━━━━━━━━━━━━━\u001b[0m\u001b[37m\u001b[0m \u001b[1m1s\u001b[0m 3ms/step - accuracy: 1.0000 - loss: 9.6114e-06 - val_accuracy: 1.0000 - val_loss: 9.8553e-06 - learning_rate: 0.0010\n",
            "Epoch 17/50\n",
            "\u001b[1m200/200\u001b[0m \u001b[32m━━━━━━━━━━━━━━━━━━━━\u001b[0m\u001b[37m\u001b[0m \u001b[1m1s\u001b[0m 3ms/step - accuracy: 1.0000 - loss: 7.9507e-06 - val_accuracy: 1.0000 - val_loss: 8.3116e-06 - learning_rate: 0.0010\n",
            "Epoch 18/50\n",
            "\u001b[1m200/200\u001b[0m \u001b[32m━━━━━━━━━━━━━━━━━━━━\u001b[0m\u001b[37m\u001b[0m \u001b[1m1s\u001b[0m 3ms/step - accuracy: 1.0000 - loss: 6.6983e-06 - val_accuracy: 1.0000 - val_loss: 7.0626e-06 - learning_rate: 0.0010\n",
            "Epoch 19/50\n",
            "\u001b[1m200/200\u001b[0m \u001b[32m━━━━━━━━━━━━━━━━━━━━\u001b[0m\u001b[37m\u001b[0m \u001b[1m1s\u001b[0m 3ms/step - accuracy: 1.0000 - loss: 5.8957e-06 - val_accuracy: 1.0000 - val_loss: 6.9466e-06 - learning_rate: 1.0000e-04\n",
            "Epoch 20/50\n",
            "\u001b[1m200/200\u001b[0m \u001b[32m━━━━━━━━━━━━━━━━━━━━\u001b[0m\u001b[37m\u001b[0m \u001b[1m1s\u001b[0m 5ms/step - accuracy: 1.0000 - loss: 5.8524e-06 - val_accuracy: 1.0000 - val_loss: 6.8222e-06 - learning_rate: 1.0000e-04\n",
            "Epoch 21/50\n",
            "\u001b[1m200/200\u001b[0m \u001b[32m━━━━━━━━━━━━━━━━━━━━\u001b[0m\u001b[37m\u001b[0m \u001b[1m1s\u001b[0m 5ms/step - accuracy: 1.0000 - loss: 5.7198e-06 - val_accuracy: 1.0000 - val_loss: 6.6879e-06 - learning_rate: 1.0000e-04\n",
            "Epoch 22/50\n",
            "\u001b[1m200/200\u001b[0m \u001b[32m━━━━━━━━━━━━━━━━━━━━\u001b[0m\u001b[37m\u001b[0m \u001b[1m1s\u001b[0m 4ms/step - accuracy: 1.0000 - loss: 5.6453e-06 - val_accuracy: 1.0000 - val_loss: 6.5454e-06 - learning_rate: 1.0000e-04\n",
            "Epoch 23/50\n",
            "\u001b[1m200/200\u001b[0m \u001b[32m━━━━━━━━━━━━━━━━━━━━\u001b[0m\u001b[37m\u001b[0m \u001b[1m1s\u001b[0m 3ms/step - accuracy: 1.0000 - loss: 5.5870e-06 - val_accuracy: 1.0000 - val_loss: 6.3943e-06 - learning_rate: 1.0000e-04\n",
            "Epoch 24/50\n",
            "\u001b[1m200/200\u001b[0m \u001b[32m━━━━━━━━━━━━━━━━━━━━\u001b[0m\u001b[37m\u001b[0m \u001b[1m1s\u001b[0m 3ms/step - accuracy: 1.0000 - loss: 5.2466e-06 - val_accuracy: 1.0000 - val_loss: 6.2358e-06 - learning_rate: 1.0000e-04\n",
            "Epoch 25/50\n",
            "\u001b[1m200/200\u001b[0m \u001b[32m━━━━━━━━━━━━━━━━━━━━\u001b[0m\u001b[37m\u001b[0m \u001b[1m1s\u001b[0m 3ms/step - accuracy: 1.0000 - loss: 5.0850e-06 - val_accuracy: 1.0000 - val_loss: 6.0670e-06 - learning_rate: 1.0000e-04\n",
            "Epoch 26/50\n",
            "\u001b[1m200/200\u001b[0m \u001b[32m━━━━━━━━━━━━━━━━━━━━\u001b[0m\u001b[37m\u001b[0m \u001b[1m1s\u001b[0m 3ms/step - accuracy: 1.0000 - loss: 4.9090e-06 - val_accuracy: 1.0000 - val_loss: 5.8906e-06 - learning_rate: 1.0000e-04\n",
            "Epoch 27/50\n",
            "\u001b[1m200/200\u001b[0m \u001b[32m━━━━━━━━━━━━━━━━━━━━\u001b[0m\u001b[37m\u001b[0m \u001b[1m1s\u001b[0m 3ms/step - accuracy: 1.0000 - loss: 4.8341e-06 - val_accuracy: 1.0000 - val_loss: 5.7049e-06 - learning_rate: 1.0000e-04\n",
            "Epoch 28/50\n",
            "\u001b[1m200/200\u001b[0m \u001b[32m━━━━━━━━━━━━━━━━━━━━\u001b[0m\u001b[37m\u001b[0m \u001b[1m1s\u001b[0m 3ms/step - accuracy: 1.0000 - loss: 4.7140e-06 - val_accuracy: 1.0000 - val_loss: 5.5132e-06 - learning_rate: 1.0000e-04\n",
            "Epoch 29/50\n",
            "\u001b[1m200/200\u001b[0m \u001b[32m━━━━━━━━━━━━━━━━━━━━\u001b[0m\u001b[37m\u001b[0m \u001b[1m1s\u001b[0m 3ms/step - accuracy: 1.0000 - loss: 4.7438e-06 - val_accuracy: 1.0000 - val_loss: 5.4929e-06 - learning_rate: 1.0000e-05\n",
            "Epoch 30/50\n",
            "\u001b[1m200/200\u001b[0m \u001b[32m━━━━━━━━━━━━━━━━━━━━\u001b[0m\u001b[37m\u001b[0m \u001b[1m1s\u001b[0m 3ms/step - accuracy: 1.0000 - loss: 4.6460e-06 - val_accuracy: 1.0000 - val_loss: 5.4704e-06 - learning_rate: 1.0000e-05\n",
            "Epoch 31/50\n",
            "\u001b[1m200/200\u001b[0m \u001b[32m━━━━━━━━━━━━━━━━━━━━\u001b[0m\u001b[37m\u001b[0m \u001b[1m1s\u001b[0m 3ms/step - accuracy: 1.0000 - loss: 4.7059e-06 - val_accuracy: 1.0000 - val_loss: 5.4459e-06 - learning_rate: 1.0000e-05\n",
            "Epoch 32/50\n",
            "\u001b[1m200/200\u001b[0m \u001b[32m━━━━━━━━━━━━━━━━━━━━\u001b[0m\u001b[37m\u001b[0m \u001b[1m2s\u001b[0m 4ms/step - accuracy: 1.0000 - loss: 4.4890e-06 - val_accuracy: 1.0000 - val_loss: 5.4192e-06 - learning_rate: 1.0000e-05\n",
            "Epoch 33/50\n",
            "\u001b[1m200/200\u001b[0m \u001b[32m━━━━━━━━━━━━━━━━━━━━\u001b[0m\u001b[37m\u001b[0m \u001b[1m1s\u001b[0m 4ms/step - accuracy: 1.0000 - loss: 4.5873e-06 - val_accuracy: 1.0000 - val_loss: 5.3896e-06 - learning_rate: 1.0000e-05\n",
            "Epoch 34/50\n",
            "\u001b[1m200/200\u001b[0m \u001b[32m━━━━━━━━━━━━━━━━━━━━\u001b[0m\u001b[37m\u001b[0m \u001b[1m1s\u001b[0m 3ms/step - accuracy: 1.0000 - loss: 4.6331e-06 - val_accuracy: 1.0000 - val_loss: 5.3575e-06 - learning_rate: 1.0000e-05\n",
            "Epoch 35/50\n",
            "\u001b[1m200/200\u001b[0m \u001b[32m━━━━━━━━━━━━━━━━━━━━\u001b[0m\u001b[37m\u001b[0m \u001b[1m1s\u001b[0m 3ms/step - accuracy: 1.0000 - loss: 4.3858e-06 - val_accuracy: 1.0000 - val_loss: 5.3226e-06 - learning_rate: 1.0000e-05\n",
            "Epoch 36/50\n",
            "\u001b[1m200/200\u001b[0m \u001b[32m━━━━━━━━━━━━━━━━━━━━\u001b[0m\u001b[37m\u001b[0m \u001b[1m1s\u001b[0m 3ms/step - accuracy: 1.0000 - loss: 4.4171e-06 - val_accuracy: 1.0000 - val_loss: 5.2843e-06 - learning_rate: 1.0000e-05\n",
            "Epoch 37/50\n",
            "\u001b[1m200/200\u001b[0m \u001b[32m━━━━━━━━━━━━━━━━━━━━\u001b[0m\u001b[37m\u001b[0m \u001b[1m1s\u001b[0m 3ms/step - accuracy: 1.0000 - loss: 4.4711e-06 - val_accuracy: 1.0000 - val_loss: 5.2427e-06 - learning_rate: 1.0000e-05\n",
            "Epoch 38/50\n",
            "\u001b[1m200/200\u001b[0m \u001b[32m━━━━━━━━━━━━━━━━━━━━\u001b[0m\u001b[37m\u001b[0m \u001b[1m1s\u001b[0m 3ms/step - accuracy: 1.0000 - loss: 4.3923e-06 - val_accuracy: 1.0000 - val_loss: 5.1977e-06 - learning_rate: 1.0000e-05\n",
            "Epoch 39/50\n",
            "\u001b[1m200/200\u001b[0m \u001b[32m━━━━━━━━━━━━━━━━━━━━\u001b[0m\u001b[37m\u001b[0m \u001b[1m1s\u001b[0m 3ms/step - accuracy: 1.0000 - loss: 4.3275e-06 - val_accuracy: 1.0000 - val_loss: 5.1931e-06 - learning_rate: 1.0000e-06\n",
            "Epoch 40/50\n",
            "\u001b[1m200/200\u001b[0m \u001b[32m━━━━━━━━━━━━━━━━━━━━\u001b[0m\u001b[37m\u001b[0m \u001b[1m1s\u001b[0m 3ms/step - accuracy: 1.0000 - loss: 4.4032e-06 - val_accuracy: 1.0000 - val_loss: 5.1880e-06 - learning_rate: 1.0000e-06\n",
            "Epoch 41/50\n",
            "\u001b[1m200/200\u001b[0m \u001b[32m━━━━━━━━━━━━━━━━━━━━\u001b[0m\u001b[37m\u001b[0m \u001b[1m1s\u001b[0m 3ms/step - accuracy: 1.0000 - loss: 4.4611e-06 - val_accuracy: 1.0000 - val_loss: 5.1823e-06 - learning_rate: 1.0000e-06\n",
            "Epoch 42/50\n",
            "\u001b[1m200/200\u001b[0m \u001b[32m━━━━━━━━━━━━━━━━━━━━\u001b[0m\u001b[37m\u001b[0m \u001b[1m1s\u001b[0m 3ms/step - accuracy: 1.0000 - loss: 4.2579e-06 - val_accuracy: 1.0000 - val_loss: 5.1760e-06 - learning_rate: 1.0000e-06\n",
            "Epoch 43/50\n",
            "\u001b[1m200/200\u001b[0m \u001b[32m━━━━━━━━━━━━━━━━━━━━\u001b[0m\u001b[37m\u001b[0m \u001b[1m1s\u001b[0m 3ms/step - accuracy: 1.0000 - loss: 4.2941e-06 - val_accuracy: 1.0000 - val_loss: 5.1689e-06 - learning_rate: 1.0000e-06\n",
            "Epoch 44/50\n",
            "\u001b[1m200/200\u001b[0m \u001b[32m━━━━━━━━━━━━━━━━━━━━\u001b[0m\u001b[37m\u001b[0m \u001b[1m1s\u001b[0m 3ms/step - accuracy: 1.0000 - loss: 4.2471e-06 - val_accuracy: 1.0000 - val_loss: 5.1611e-06 - learning_rate: 1.0000e-06\n",
            "Epoch 45/50\n",
            "\u001b[1m200/200\u001b[0m \u001b[32m━━━━━━━━━━━━━━━━━━━━\u001b[0m\u001b[37m\u001b[0m \u001b[1m2s\u001b[0m 5ms/step - accuracy: 1.0000 - loss: 4.3159e-06 - val_accuracy: 1.0000 - val_loss: 5.1525e-06 - learning_rate: 1.0000e-06\n",
            "Epoch 46/50\n",
            "\u001b[1m200/200\u001b[0m \u001b[32m━━━━━━━━━━━━━━━━━━━━\u001b[0m\u001b[37m\u001b[0m \u001b[1m1s\u001b[0m 5ms/step - accuracy: 1.0000 - loss: 4.2366e-06 - val_accuracy: 1.0000 - val_loss: 5.1429e-06 - learning_rate: 1.0000e-06\n",
            "Epoch 47/50\n",
            "\u001b[1m200/200\u001b[0m \u001b[32m━━━━━━━━━━━━━━━━━━━━\u001b[0m\u001b[37m\u001b[0m \u001b[1m1s\u001b[0m 3ms/step - accuracy: 1.0000 - loss: 4.3653e-06 - val_accuracy: 1.0000 - val_loss: 5.1325e-06 - learning_rate: 1.0000e-06\n",
            "Epoch 48/50\n",
            "\u001b[1m200/200\u001b[0m \u001b[32m━━━━━━━━━━━━━━━━━━━━\u001b[0m\u001b[37m\u001b[0m \u001b[1m1s\u001b[0m 3ms/step - accuracy: 1.0000 - loss: 4.3682e-06 - val_accuracy: 1.0000 - val_loss: 5.1211e-06 - learning_rate: 1.0000e-06\n",
            "Epoch 49/50\n",
            "\u001b[1m200/200\u001b[0m \u001b[32m━━━━━━━━━━━━━━━━━━━━\u001b[0m\u001b[37m\u001b[0m \u001b[1m1s\u001b[0m 3ms/step - accuracy: 1.0000 - loss: 4.3281e-06 - val_accuracy: 1.0000 - val_loss: 5.1203e-06 - learning_rate: 1.0000e-07\n",
            "Epoch 50/50\n",
            "\u001b[1m200/200\u001b[0m \u001b[32m━━━━━━━━━━━━━━━━━━━━\u001b[0m\u001b[37m\u001b[0m \u001b[1m1s\u001b[0m 3ms/step - accuracy: 1.0000 - loss: 4.3546e-06 - val_accuracy: 1.0000 - val_loss: 5.1194e-06 - learning_rate: 1.0000e-07\n"
          ]
        },
        {
          "output_type": "display_data",
          "data": {
            "text/plain": [
              "<Figure size 800x500 with 1 Axes>"
            ],
            "image/png": "[encoded data removed]"
          },
          "metadata": {}
        },
        {
          "output_type": "stream",
          "name": "stdout",
          "text": [
            "63/63 - 1s - 11ms/step - accuracy: 1.0000 - loss: 5.0336e-06\n",
            "Test set Accuracy: 100.00%\n"
          ]
        }
      ]
    },
    {
      "cell_type": "code",
      "metadata": {
        "id": "StiU5QcPPxqQ"
      },
      "source": [],
      "execution_count": null,
      "outputs": []
    },
    {
      "cell_type": "code",
      "metadata": {
        "id": "ALLMN63FPyEQ"
      },
      "source": [],
      "execution_count": null,
      "outputs": []
    },
    {
      "cell_type": "code",
      "metadata": {
        "id": "RnGBwGVZPyyh"
      },
      "source": [],
      "execution_count": null,
      "outputs": []
    },
    {
      "cell_type": "code",
      "metadata": {
        "id": "CVSfaqgKPzE2"
      },
      "source": [],
      "execution_count": null,
      "outputs": []
    }
  ]
}